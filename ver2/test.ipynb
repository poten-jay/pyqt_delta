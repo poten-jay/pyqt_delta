{
 "cells": [
  {
   "cell_type": "code",
   "execution_count": 1,
   "metadata": {},
   "outputs": [],
   "source": [
    "import yaml\n",
    "# 파일 경로\n",
    "yaml_file_path = '../move/config.yaml'  \n",
    "\n",
    "with open(yaml_file_path, 'r') as file:\n",
    "    # YAML 파일을 읽고 파싱하여 Python 딕셔너리로 변환\n",
    "    config = yaml.safe_load(file)\n",
    "    # 'move' 키 아래 있는 'max_y_area' 값을 가져옴\n",
    "    x_min = config['move']['min_x_area']\n",
    "    x_max = config['move']['max_x_area']\n",
    "    y_min = config['move']['min_y_area']\n",
    "    y_max = config['move']['max_y_area']\n",
    "    z_min = config['move']['min_z_area']\n",
    "    z_max = config['move']['max_z_area']\n",
    "\n",
    "    config['move']['home1']['label']\n",
    "    config['move']['home1']['x']\n",
    "    config['move']['home1']['y']\n",
    "    config['move']['home1']['z']\n",
    "\n",
    "    with open(yaml_file_path, 'r') as file:\n",
    "    # YAML 파일을 읽고 파싱하여 Python 딕셔너리로 변환\n",
    "    config = yaml.safe_load(file)\n",
    "\n",
    "    up = config['trajectory']['up']\n",
    "    pick_z = config['trajectory']['pick_z']\n",
    "    speed = config['trajectory']['speed']\n",
    "    curve_r = config['trajectory']['curve_r']\n",
    "    pick_decel = config['trajectory']['pick_decel']\n",
    "    place_decel = config['trajectory']['place_decel']\n",
    "    decel_start = config['trajectory']['decel_start']\n",
    "    place_down_mode = config['trajectory']['place_down_mode']\n",
    "\n",
    "        # Read items from the file and add them to the ComboBox\n",
    "        with open('../vision/labels.txt', 'r') as file:\n",
    "            items = file.read().splitlines()\n",
    "            items2 = items + ['none']\n",
    "            self.comboBox.addItems(items2)\n"
   ]
  },
  {
   "cell_type": "code",
   "execution_count": 9,
   "metadata": {},
   "outputs": [
    {
     "name": "stdout",
     "output_type": "stream",
     "text": [
      "0\n",
      "-400.0\n",
      "0.0\n",
      "-830.0\n"
     ]
    }
   ],
   "source": [
    "print(config['move']['home1']['label'])\n",
    "print(config['move']['home1']['x'])\n",
    "print(config['move']['home1']['y'])\n",
    "print(config['move']['home1']['z'])"
   ]
  },
  {
   "cell_type": "code",
   "execution_count": null,
   "metadata": {},
   "outputs": [],
   "source": [
    "config['move']['home1']['label']\n",
    "config['move']['home1']['x']\n",
    "config['move']['home1']['y']\n",
    "config['move']['home1']['z']"
   ]
  },
  {
   "cell_type": "code",
   "execution_count": 13,
   "metadata": {},
   "outputs": [
    {
     "name": "stdout",
     "output_type": "stream",
     "text": [
      "['PET', 'PE', 'PS', 'PP', 'Undefined', 'Others', 'CAN', 'Glass', 'none']\n"
     ]
    }
   ],
   "source": [
    "with open('../vision/labels.txt', 'r') as file:\n",
    "    items = file.read().splitlines()\n",
    "\n",
    "items2 = items + ['none']\n",
    "print(items2)"
   ]
  },
  {
   "cell_type": "code",
   "execution_count": 15,
   "metadata": {},
   "outputs": [
    {
     "data": {
      "text/plain": [
       "8"
      ]
     },
     "execution_count": 15,
     "metadata": {},
     "output_type": "execute_result"
    }
   ],
   "source": [
    "len(items2) -1"
   ]
  },
  {
   "cell_type": "code",
   "execution_count": 22,
   "metadata": {},
   "outputs": [
    {
     "name": "stdout",
     "output_type": "stream",
     "text": [
      "PE\n"
     ]
    }
   ],
   "source": [
    "x = 1\n",
    "\n",
    "labels = {  \"PET\" : 0,\n",
    "            \"PE\" : 1,\n",
    "            \"PS\" : 2,\n",
    "            \"PP\" : 3,\n",
    "            \"Undefined\" : 4,\n",
    "            \"Others\" : 5,\n",
    "            \"CAN\" : 6,\n",
    "            \"Glass\" : 7,\n",
    "            \"None\" : 8}\n",
    "\n",
    "# 주어진 값에 해당하는 키 찾기\n",
    "for key, value in labels.items():\n",
    "    if value == x:\n",
    "        print(key)\n",
    "        break  # 키를 찾으면 루프 종료\n",
    "else:\n",
    "    print(\"해당하는 키가 없습니다.\")\n"
   ]
  },
  {
   "cell_type": "code",
   "execution_count": 35,
   "metadata": {},
   "outputs": [
    {
     "data": {
      "text/plain": [
       "{'PET': 0,\n",
       " 'PE': 1,\n",
       " 'PS': 2,\n",
       " 'PP': 3,\n",
       " 'Undefined': 4,\n",
       " 'Others': 5,\n",
       " 'CAN': 6,\n",
       " 'Glass': 7,\n",
       " 'None': 8}"
      ]
     },
     "execution_count": 35,
     "metadata": {},
     "output_type": "execute_result"
    }
   ],
   "source": [
    "labels = {}\n",
    "with open(\"../vision/labels.txt\", \"r\") as file:\n",
    "    lines = file.readlines()\n",
    "    for idx, line in enumerate(lines, start=0):\n",
    "        line = line.strip()\n",
    "        if line:\n",
    "            labels[line] = idx\n",
    "    # 마지막에 \"None\" 추가\n",
    "    labels[\"None\"] = len(lines)\n",
    "\n",
    "\n",
    "\n",
    "labels\n",
    "\n",
    "\n"
   ]
  },
  {
   "cell_type": "code",
   "execution_count": null,
   "metadata": {},
   "outputs": [],
   "source": [
    "# home_list.txt 의 정보 읽어오기\n",
    "file_path_move = 'document/move_list.txt'\n",
    "with open(file_path_move, 'r') as file:\n",
    "    lines = file.readlines()\n",
    "# 각 줄의 데이터를 변수에 저장합니다.\n",
    "if len(lines) <= 4 :\n",
    "    # 1번째 줄 데이터 저장\n",
    "    first_line = lines[0].split()\n",
    "    # 2번째 줄 데이터 저장\n",
    "    second_line = lines[1].split()\n",
    "    # 3번째 줄 데이터 저장\n",
    "    third_line = lines[2].split()\n",
    "    # 4번째 줄 데이터 저장\n",
    "    fourth_line = lines[3].split()\n",
    "\n",
    "#########################################################################\n",
    "\n",
    "file_path_home = 'document/home_list.txt'\n",
    "with open(file_path_home, 'r') as file1:\n",
    "    lines_home = file1.readlines()\n",
    "# 각 줄의 데이터를 변수에 저장합니다.\n",
    "if len(lines_home) <= 4 :\n",
    "    # 1번째 줄 데이터 저장\n",
    "    first_line_1 = lines_home[0].split()\n",
    "    # 2번째 줄 데이터 저장\n",
    "    second_line_2 = lines_home[1].split()\n",
    "    # 3번째 줄 데이터 저장\n",
    "    third_line_3 = lines_home[2].split()\n",
    "    # 4번째 줄 데이터 저장\n",
    "    fourth_line_4 = lines_home[3].split()\n",
    "    ########################################################\n",
    "\n",
    "    up = config['trajectory']['up']\n",
    "    pick_z = config['trajectory']['pick_z']\n",
    "    speed = config['trajectory']['speed']\n",
    "    curve_r = config['trajectory']['curve_r']\n",
    "    pick_decel = config['trajectory']['pick_decel']\n",
    "    place_decel = config['trajectory']['place_decel']\n",
    "    decel_start = config['trajectory']['decel_start']\n",
    "    place_down_mode = config['trajectory']['place_down_mode']\n"
   ]
  },
  {
   "cell_type": "code",
   "execution_count": null,
   "metadata": {},
   "outputs": [],
   "source": [
    "import ruamel.yaml\n",
    "yaml_file_path = '../move/config.yaml'  \n",
    "\n",
    "yaml = ruamel.yaml.YAML()\n",
    "yaml.indent(mapping=4, sequence=4, offset=2)\n",
    "with open(yaml_file_path, 'r') as file:\n",
    "    # YAML 파일을 읽고 파싱하여 Python 딕셔너리로 변환\n",
    "    config = yaml.load(file)\n",
    "\n",
    "####\n",
    "    \n",
    "with open(yaml_file_path, 'w') as file:\n",
    "    yaml.dump(config, file)\n",
    "\n",
    "    ####\n",
    "\n",
    "with open(yaml_file_path, 'r') as file:\n",
    "    # YAML 파일을 읽고 파싱하여 Python 딕셔너리로 변환\n",
    "    config = yaml.safe_load(file)"
   ]
  },
  {
   "cell_type": "code",
   "execution_count": 40,
   "metadata": {},
   "outputs": [
    {
     "data": {
      "text/plain": [
       "'false'"
      ]
     },
     "execution_count": 40,
     "metadata": {},
     "output_type": "execute_result"
    }
   ],
   "source": [
    "yaml_file_path = '../move/config.yaml'  \n",
    "with open(yaml_file_path, 'r') as file:\n",
    "    # YAML 파일을 읽고 파싱하여 Python 딕셔너리로 변환\n",
    "    config = yaml.safe_load(file)\n",
    "\n",
    "config['trajectory']['place_down_mode']"
   ]
  },
  {
   "cell_type": "code",
   "execution_count": null,
   "metadata": {},
   "outputs": [],
   "source": [
    "self.height_1 = QLineEdit(self) # 176, 229, 55, 25)\n",
    " \n",
    "self.pick_z_2.setGeometry(198, 440, 55, 25)  # Adjust position and size as needed\n",
    "\n",
    "\n",
    "self.speed_3.setGeometry(448, 306, 55, 25)  # Adjust position and size as needed\n",
    "\n",
    "\n",
    "self.r_4.setGeometry(345, 201, 55, 25)  # Adjust position and size as needed\n",
    "\n",
    "self.decel_5.setGeometry(376, 441, 55, 25)  # Adjust position and size as needed\n",
    "\n",
    "\n",
    "self.decel_6.setGeometry(709, 441, 55, 25)  # Adjust position and size as needed\n"
   ]
  },
  {
   "cell_type": "code",
   "execution_count": 42,
   "metadata": {},
   "outputs": [
    {
     "name": "stdout",
     "output_type": "stream",
     "text": [
      "43.0\n"
     ]
    }
   ],
   "source": [
    "import setting\n",
    "print(setting.round)"
   ]
  },
  {
   "cell_type": "code",
   "execution_count": 49,
   "metadata": {},
   "outputs": [
    {
     "data": {
      "text/plain": [
       "-1090"
      ]
     },
     "execution_count": 49,
     "metadata": {},
     "output_type": "execute_result"
    }
   ],
   "source": [
    "setting.z_min"
   ]
  },
  {
   "cell_type": "code",
   "execution_count": 52,
   "metadata": {},
   "outputs": [
    {
     "data": {
      "text/plain": [
       "-907.0"
      ]
     },
     "execution_count": 52,
     "metadata": {},
     "output_type": "execute_result"
    }
   ],
   "source": [
    "-950+ setting.round"
   ]
  },
  {
   "cell_type": "code",
   "execution_count": 47,
   "metadata": {},
   "outputs": [
    {
     "data": {
      "text/plain": [
       "-900.0"
      ]
     },
     "execution_count": 47,
     "metadata": {},
     "output_type": "execute_result"
    }
   ],
   "source": [
    "yaml_file_path = '../move/config.yaml'  \n",
    "with open(yaml_file_path, 'r') as file:\n",
    "    # YAML 파일을 읽고 파싱하여 Python 딕셔너리로 변환\n",
    "    config = yaml.safe_load(file)\n",
    "config['trajectory']['up']"
   ]
  },
  {
   "cell_type": "code",
   "execution_count": 55,
   "metadata": {},
   "outputs": [
    {
     "data": {
      "text/plain": [
       "'PET'"
      ]
     },
     "execution_count": 55,
     "metadata": {},
     "output_type": "execute_result"
    }
   ],
   "source": [
    "label_path = '../vision/labels.txt'\n",
    "with open(label_path, 'r') as file:\n",
    "    lines = file.readlines()\n",
    "    cleaned_lines = [line.strip() for line in lines]\n",
    "\n",
    "cleaned_lines[0]\n",
    "\n",
    "# # 파일을 읽어 리스트로 저장합니다.\n",
    "# result_list = read_file_to_list(file_path)\n",
    "# print(result_list)"
   ]
  },
  {
   "cell_type": "code",
   "execution_count": 56,
   "metadata": {},
   "outputs": [
    {
     "data": {
      "text/plain": [
       "8"
      ]
     },
     "execution_count": 56,
     "metadata": {},
     "output_type": "execute_result"
    }
   ],
   "source": [
    "len(cleaned_lines)"
   ]
  },
  {
   "cell_type": "code",
   "execution_count": 105,
   "metadata": {},
   "outputs": [
    {
     "name": "stdout",
     "output_type": "stream",
     "text": [
      "{'PET': 0, 'PE': 1, 'PS': 2, 'PP': 3, 'Undefined': 4, 'Others': 5, 'CAN': 6, 'Glass': 7, 'None': 8}\n",
      "{0: 'PET', 1: 'PE', 2: 'PS', 3: 'PP', 4: 'Undefined', 5: 'Others', 6: 'CAN', 7: 'Glass', 8: 'None'}\n",
      "None\n",
      "8\n"
     ]
    }
   ],
   "source": [
    "labels = {}\n",
    "with open(\"../vision/labels.txt\", \"r\") as file:\n",
    "    lines = file.readlines()\n",
    "    for idx, line in enumerate(lines, start=0):\n",
    "        line = line.strip()\n",
    "        if line:\n",
    "            labels[line] = idx\n",
    "    # 마지막에 \"None\" 추가\n",
    "    labels[\"None\"] = len(lines)\n",
    "    reversed_dict = {value: key for key, value in labels.items()}\n",
    "    print(labels)\n",
    "    print(reversed_dict)\n",
    "    \n",
    "\n",
    "    # selected_item = self.comboBox.currentText()\n",
    "    for key, value in labels.items():\n",
    "        # print(key, value)\n",
    "        # print()\n",
    "        if key == 'None':\n",
    "            print(key)\n",
    "            selected_item = str(value)\n",
    "            print(selected_item)\n",
    "            break\n"
   ]
  },
  {
   "cell_type": "code",
   "execution_count": 97,
   "metadata": {},
   "outputs": [
    {
     "data": {
      "text/plain": [
       "dict_values([0, 1, 2, 3, 4, 5, 6, 7, 8])"
      ]
     },
     "execution_count": 97,
     "metadata": {},
     "output_type": "execute_result"
    }
   ],
   "source": [
    "# labels['PET']\n",
    "labels.values()"
   ]
  },
  {
   "cell_type": "code",
   "execution_count": null,
   "metadata": {},
   "outputs": [],
   "source": []
  }
 ],
 "metadata": {
  "kernelspec": {
   "display_name": "Python 3",
   "language": "python",
   "name": "python3"
  },
  "language_info": {
   "codemirror_mode": {
    "name": "ipython",
    "version": 3
   },
   "file_extension": ".py",
   "mimetype": "text/x-python",
   "name": "python",
   "nbconvert_exporter": "python",
   "pygments_lexer": "ipython3",
   "version": "3.8.10"
  }
 },
 "nbformat": 4,
 "nbformat_minor": 2
}
